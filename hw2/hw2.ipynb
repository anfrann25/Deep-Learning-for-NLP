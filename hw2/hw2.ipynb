{
 "cells": [
  {
   "cell_type": "code",
   "execution_count": 1,
   "id": "20239b8f",
   "metadata": {
    "_cell_guid": "b1076dfc-b9ad-4769-8c92-a6c4dae69d19",
    "_uuid": "8f2839f25d086af736a60e9eeb907d3b93b6e0e5",
    "execution": {
     "iopub.execute_input": "2025-05-05T16:43:01.868836Z",
     "iopub.status.busy": "2025-05-05T16:43:01.868428Z",
     "iopub.status.idle": "2025-05-05T16:43:03.645389Z",
     "shell.execute_reply": "2025-05-05T16:43:03.644308Z"
    },
    "papermill": {
     "duration": 1.783296,
     "end_time": "2025-05-05T16:43:03.646719",
     "exception": false,
     "start_time": "2025-05-05T16:43:01.863423",
     "status": "completed"
    },
    "tags": []
   },
   "outputs": [
    {
     "name": "stdout",
     "output_type": "stream",
     "text": [
      "/kaggle/input/ai-2-dl-for-nlp-2025-homework-2/sample_submission.csv\n",
      "/kaggle/input/ai-2-dl-for-nlp-2025-homework-2/train_dataset.csv\n",
      "/kaggle/input/ai-2-dl-for-nlp-2025-homework-2/test_dataset.csv\n",
      "/kaggle/input/ai-2-dl-for-nlp-2025-homework-2/val_dataset.csv\n"
     ]
    }
   ],
   "source": [
    "# This Python 3 environment comes with many helpful analytics libraries installed\n",
    "# It is defined by the kaggle/python Docker image: https://github.com/kaggle/docker-python\n",
    "# For example, here's several helpful packages to load\n",
    "\n",
    "import numpy as np # linear algebra\n",
    "import pandas as pd # data processing, CSV file I/O (e.g. pd.read_csv)\n",
    "\n",
    "# Input data files are available in the read-only \"../input/\" directory\n",
    "# For example, running this (by clicking run or pressing Shift+Enter) will list all files under the input directory\n",
    "\n",
    "import os\n",
    "for dirname, _, filenames in os.walk('/kaggle/input'):\n",
    "    for filename in filenames:\n",
    "        print(os.path.join(dirname, filename))\n",
    "\n",
    "\n",
    "\n",
    "# You can write up to 20GB to the current directory (/kaggle/working/) that gets preserved as output when you create a version using \"Save & Run All\" \n",
    "# You can also write temporary files to /kaggle/temp/, but they won't be saved outside of the current session"
   ]
  },
  {
   "cell_type": "code",
   "execution_count": 2,
   "id": "c6b6e45c",
   "metadata": {
    "execution": {
     "iopub.execute_input": "2025-05-05T16:43:03.654827Z",
     "iopub.status.busy": "2025-05-05T16:43:03.654436Z",
     "iopub.status.idle": "2025-05-05T16:43:53.745962Z",
     "shell.execute_reply": "2025-05-05T16:43:53.744818Z"
    },
    "papermill": {
     "duration": 50.097123,
     "end_time": "2025-05-05T16:43:53.747445",
     "exception": false,
     "start_time": "2025-05-05T16:43:03.650322",
     "status": "completed"
    },
    "tags": []
   },
   "outputs": [
    {
     "name": "stderr",
     "output_type": "stream",
     "text": [
      "[nltk_data] Downloading package punkt to /usr/share/nltk_data...\n",
      "[nltk_data]   Package punkt is already up-to-date!\n"
     ]
    },
    {
     "name": "stdout",
     "output_type": "stream",
     "text": [
      "       ID                                               Text  Label\n",
      "0  189385      @whoisralphie dude  I'm so bummed ur leaving!      0\n",
      "1   58036  oh my god, a severed foot was foun in a wheely...      0\n",
      "2  190139  I end up &quot;dog dialing&quot; sumtimes. Wha...      1\n",
      "3   99313                         @_rachelx meeeee toooooo!       0\n",
      "4  157825  I was hoping I could stay home and work today,...      0\n",
      "Index(['ID', 'Text', 'Label'], dtype='object')\n"
     ]
    }
   ],
   "source": [
    "import pandas as pd\n",
    "import numpy as np\n",
    "import torch\n",
    "import torch.nn as nn\n",
    "import torch.optim as optim\n",
    "from sklearn.metrics import accuracy_score, precision_score, recall_score, f1_score\n",
    "from sklearn.model_selection import train_test_split\n",
    "from torch.utils.data import Dataset, DataLoader\n",
    "from gensim.models import KeyedVectors\n",
    "import re\n",
    "import nltk\n",
    "from nltk.tokenize import word_tokenize\n",
    "from tqdm import tqdm\n",
    "\n",
    "nltk.download('punkt')\n",
    "SEED = 42\n",
    "torch.manual_seed(SEED)\n",
    "np.random.seed(SEED)\n",
    "\n",
    "# === 1. Load Datasets ===\n",
    "train_df = pd.read_csv(\"/kaggle/input/ai-2-dl-for-nlp-2025-homework-2/train_dataset.csv\")\n",
    "val_df = pd.read_csv(\"/kaggle/input/ai-2-dl-for-nlp-2025-homework-2/val_dataset.csv\")\n",
    "test_df = pd.read_csv(\"/kaggle/input/ai-2-dl-for-nlp-2025-homework-2/test_dataset.csv\")\n",
    "\n",
    "print(train_df.head())\n",
    "print(train_df.columns)\n"
   ]
  },
  {
   "cell_type": "code",
   "execution_count": 3,
   "id": "663002f0",
   "metadata": {
    "execution": {
     "iopub.execute_input": "2025-05-05T16:43:53.755426Z",
     "iopub.status.busy": "2025-05-05T16:43:53.755149Z",
     "iopub.status.idle": "2025-05-05T16:44:12.190461Z",
     "shell.execute_reply": "2025-05-05T16:44:12.189108Z"
    },
    "papermill": {
     "duration": 18.441231,
     "end_time": "2025-05-05T16:44:12.192117",
     "exception": false,
     "start_time": "2025-05-05T16:43:53.750886",
     "status": "completed"
    },
    "tags": []
   },
   "outputs": [
    {
     "name": "stdout",
     "output_type": "stream",
     "text": [
      "                                                Text  \\\n",
      "0      @whoisralphie dude  I'm so bummed ur leaving!   \n",
      "1  oh my god, a severed foot was foun in a wheely...   \n",
      "2  I end up &quot;dog dialing&quot; sumtimes. Wha...   \n",
      "3                         @_rachelx meeeee toooooo!    \n",
      "4  I was hoping I could stay home and work today,...   \n",
      "\n",
      "                                             cleaned  \\\n",
      "0                    dude  i'm so bummed ur leaving    \n",
      "1  oh my god  a severed foot was foun in a wheely...   \n",
      "2  i end up  quot dog dialing quot  sumtimes  wha...   \n",
      "3                                   meeeee toooooo     \n",
      "4  i was hoping i could stay home and work today ...   \n",
      "\n",
      "                                              tokens  \n",
      "0             [dude, i, 'm, so, bummed, ur, leaving]  \n",
      "1  [oh, my, god, a, severed, foot, was, foun, in,...  \n",
      "2  [i, end, up, quot, dog, dialing, quot, sumtime...  \n",
      "3                                  [meeeee, toooooo]  \n",
      "4  [i, was, hoping, i, could, stay, home, and, wo...  \n"
     ]
    }
   ],
   "source": [
    "def clean_text(text):\n",
    "    text = re.sub(r\"http\\S+\", \"\", text)  # remove URLs\n",
    "    text = re.sub(r\"@\\w+\", \"\", text)     # remove mentions\n",
    "    text = re.sub(r\"[^a-zA-Z']\", \" \", text)  # keep only letters and apostrophes\n",
    "    text = text.lower()\n",
    "    return text\n",
    "\n",
    "# Apply cleaning\n",
    "train_df['cleaned'] = train_df['Text'].apply(clean_text)\n",
    "val_df['cleaned'] = val_df['Text'].apply(clean_text)\n",
    "test_df['cleaned'] = test_df['Text'].apply(clean_text)\n",
    "\n",
    "# Tokenization\n",
    "train_df['tokens'] = train_df['cleaned'].apply(word_tokenize)\n",
    "val_df['tokens'] = val_df['cleaned'].apply(word_tokenize)\n",
    "test_df['tokens'] = test_df['cleaned'].apply(word_tokenize)\n",
    "\n",
    "print(train_df[['Text', 'cleaned', 'tokens']].head())"
   ]
  },
  {
   "cell_type": "code",
   "execution_count": 4,
   "id": "68b7a8e0",
   "metadata": {
    "execution": {
     "iopub.execute_input": "2025-05-05T16:44:12.201594Z",
     "iopub.status.busy": "2025-05-05T16:44:12.201229Z",
     "iopub.status.idle": "2025-05-05T16:44:33.283838Z",
     "shell.execute_reply": "2025-05-05T16:44:33.282921Z"
    },
    "papermill": {
     "duration": 21.089693,
     "end_time": "2025-05-05T16:44:33.285285",
     "exception": false,
     "start_time": "2025-05-05T16:44:12.195592",
     "status": "completed"
    },
    "tags": []
   },
   "outputs": [
    {
     "name": "stdout",
     "output_type": "stream",
     "text": [
      "Vocabulary size: 27351\n"
     ]
    }
   ],
   "source": [
    "from gensim.models import Word2Vec\n",
    "\n",
    "# Φτιάχνουμε λίστα με όλα τα tokenized tweets για training\n",
    "all_tokens = train_df['tokens'].tolist()\n",
    "\n",
    "# Εκπαίδευση Word2Vec (100 διαστάσεις)\n",
    "embedding_dim = 100\n",
    "w2v_model = Word2Vec(\n",
    "    sentences=all_tokens,\n",
    "    vector_size=embedding_dim,\n",
    "    window=5,\n",
    "    min_count=2,\n",
    "    workers=4,\n",
    "    sg=1,  # skip-gram\n",
    "    seed=SEED\n",
    ")\n",
    "\n",
    "# Αποθηκεύουμε το λεξιλόγιο\n",
    "word2vec = w2v_model.wv\n",
    "vocab = word2vec.key_to_index\n",
    "print(f\"Vocabulary size: {len(vocab)}\")\n"
   ]
  },
  {
   "cell_type": "code",
   "execution_count": 5,
   "id": "6be227a4",
   "metadata": {
    "execution": {
     "iopub.execute_input": "2025-05-05T16:44:33.293635Z",
     "iopub.status.busy": "2025-05-05T16:44:33.293334Z",
     "iopub.status.idle": "2025-05-05T16:44:33.408480Z",
     "shell.execute_reply": "2025-05-05T16:44:33.407743Z"
    },
    "papermill": {
     "duration": 0.121055,
     "end_time": "2025-05-05T16:44:33.410067",
     "exception": false,
     "start_time": "2025-05-05T16:44:33.289012",
     "status": "completed"
    },
    "tags": []
   },
   "outputs": [],
   "source": [
    "from torch.nn.utils.rnn import pad_sequence\n",
    "\n",
    "PAD_IDX = 0\n",
    "UNK_IDX = 1\n",
    "\n",
    "# Φτιάχνουμε λεξικό word -> index\n",
    "word_to_idx = {word: idx + 2 for idx, word in enumerate(word2vec.index_to_key)}\n",
    "word_to_idx[\"<PAD>\"] = PAD_IDX\n",
    "word_to_idx[\"<UNK>\"] = UNK_IDX\n",
    "\n",
    "# Αντίστροφο για debugging\n",
    "idx_to_word = {idx: word for word, idx in word_to_idx.items()}\n",
    "\n",
    "# Δημιουργία embedding matrix\n",
    "embedding_matrix = np.zeros((len(word_to_idx), embedding_dim))\n",
    "for word, idx in word_to_idx.items():\n",
    "    if word in word2vec:\n",
    "        embedding_matrix[idx] = word2vec[word]\n",
    "    elif word == \"<PAD>\":\n",
    "        embedding_matrix[idx] = np.zeros(embedding_dim)\n",
    "    else:\n",
    "        embedding_matrix[idx] = np.random.normal(scale=0.6, size=(embedding_dim,))\n"
   ]
  },
  {
   "cell_type": "code",
   "execution_count": 6,
   "id": "b54e6492",
   "metadata": {
    "execution": {
     "iopub.execute_input": "2025-05-05T16:44:33.418338Z",
     "iopub.status.busy": "2025-05-05T16:44:33.418052Z",
     "iopub.status.idle": "2025-05-05T16:44:34.925081Z",
     "shell.execute_reply": "2025-05-05T16:44:34.924127Z"
    },
    "papermill": {
     "duration": 1.513087,
     "end_time": "2025-05-05T16:44:34.926949",
     "exception": false,
     "start_time": "2025-05-05T16:44:33.413862",
     "status": "completed"
    },
    "tags": []
   },
   "outputs": [],
   "source": [
    "class TweetDataset(Dataset):\n",
    "    def __init__(self, tokens, labels, word_to_idx, max_len=30):\n",
    "        self.sequences = [\n",
    "            [word_to_idx.get(token, UNK_IDX) for token in tokens[i][:max_len]]\n",
    "            for i in range(len(tokens))\n",
    "        ]\n",
    "        self.labels = labels\n",
    "        self.max_len = max_len\n",
    "\n",
    "    def __len__(self):\n",
    "        return len(self.sequences)\n",
    "\n",
    "    def __getitem__(self, idx):\n",
    "        seq = self.sequences[idx]\n",
    "        label = self.labels[idx]\n",
    "        seq_tensor = torch.tensor(seq, dtype=torch.long)\n",
    "        label_tensor = torch.tensor(label, dtype=torch.long)\n",
    "        return seq_tensor, label_tensor\n",
    "\n",
    "def collate_fn(batch):\n",
    "    sequences, labels = zip(*batch)\n",
    "    padded_sequences = pad_sequence(sequences, batch_first=True, padding_value=PAD_IDX)\n",
    "    return padded_sequences, torch.tensor(labels)\n",
    "\n",
    "train_dataset = TweetDataset(train_df['tokens'], train_df['Label'].tolist(), word_to_idx)\n",
    "val_dataset = TweetDataset(val_df['tokens'], val_df['Label'].tolist(), word_to_idx)\n",
    "\n",
    "train_loader = DataLoader(train_dataset, batch_size=64, shuffle=True, collate_fn=collate_fn)\n",
    "val_loader = DataLoader(val_dataset, batch_size=64, shuffle=False, collate_fn=collate_fn)\n"
   ]
  },
  {
   "cell_type": "code",
   "execution_count": 7,
   "id": "539dc73a",
   "metadata": {
    "execution": {
     "iopub.execute_input": "2025-05-05T16:44:34.935263Z",
     "iopub.status.busy": "2025-05-05T16:44:34.934956Z",
     "iopub.status.idle": "2025-05-05T16:44:34.943503Z",
     "shell.execute_reply": "2025-05-05T16:44:34.942639Z"
    },
    "papermill": {
     "duration": 0.014559,
     "end_time": "2025-05-05T16:44:34.945064",
     "exception": false,
     "start_time": "2025-05-05T16:44:34.930505",
     "status": "completed"
    },
    "tags": []
   },
   "outputs": [],
   "source": [
    "# === Model definition with dropout and variable hidden layer ===\n",
    "class SentimentClassifier(nn.Module):\n",
    "    def __init__(self, embedding_matrix, hidden_dim=128, dropout=0.3):\n",
    "        super().__init__()\n",
    "        self.embedding = nn.Embedding.from_pretrained(torch.FloatTensor(embedding_matrix), freeze=False)\n",
    "        self.fc1 = nn.Linear(embedding_matrix.shape[1], hidden_dim)\n",
    "        self.relu = nn.ReLU()\n",
    "        self.dropout = nn.Dropout(dropout)\n",
    "        self.fc2 = nn.Linear(hidden_dim, 2)\n",
    "\n",
    "    def forward(self, x):\n",
    "        embedded = self.embedding(x).mean(dim=1)\n",
    "        out = self.fc1(embedded)\n",
    "        out = self.relu(out)\n",
    "        out = self.dropout(out)\n",
    "        out = self.fc2(out)\n",
    "        return out\n",
    "\n",
    "# === Evaluation ===\n",
    "def evaluate(model, data_loader):\n",
    "    model.eval()\n",
    "    y_true, y_pred = [], []\n",
    "    with torch.no_grad():\n",
    "        for batch_x, batch_y in data_loader:\n",
    "            batch_x = batch_x.to(device)\n",
    "            logits = model(batch_x)\n",
    "            preds = torch.argmax(logits, dim=1).cpu().numpy()\n",
    "            y_true.extend(batch_y.numpy())\n",
    "            y_pred.extend(preds)\n",
    "\n",
    "    return {\n",
    "        \"accuracy\": accuracy_score(y_true, y_pred),\n",
    "        \"precision\": precision_score(y_true, y_pred),\n",
    "        \"recall\": recall_score(y_true, y_pred),\n",
    "        \"f1\": f1_score(y_true, y_pred)\n",
    "    }"
   ]
  },
  {
   "cell_type": "code",
   "execution_count": 8,
   "id": "b26e83e1",
   "metadata": {
    "execution": {
     "iopub.execute_input": "2025-05-05T16:44:34.952836Z",
     "iopub.status.busy": "2025-05-05T16:44:34.952555Z",
     "iopub.status.idle": "2025-05-05T16:56:41.532128Z",
     "shell.execute_reply": "2025-05-05T16:56:41.531222Z"
    },
    "papermill": {
     "duration": 726.588895,
     "end_time": "2025-05-05T16:56:41.537520",
     "exception": false,
     "start_time": "2025-05-05T16:44:34.948625",
     "status": "completed"
    },
    "tags": []
   },
   "outputs": [
    {
     "name": "stderr",
     "output_type": "stream",
     "text": [
      "[I 2025-05-05 16:44:35,189] A new study created in memory with name: no-name-9bb4a065-9786-4f2d-9bf0-35e3c83c3037\n",
      "[I 2025-05-05 16:51:08,454] Trial 0 finished with value: 0.7833163784333673 and parameters: {'hidden_dim': 88, 'lr': 0.00037214145838531797, 'dropout': 0.23614182198616152}. Best is trial 0 with value: 0.7833163784333673.\n",
      "[I 2025-05-05 16:56:41,527] Trial 1 finished with value: 0.764988666650061 and parameters: {'hidden_dim': 222, 'lr': 0.02332557837513964, 'dropout': 0.10781052691134835}. Best is trial 0 with value: 0.7833163784333673.\n"
     ]
    },
    {
     "name": "stdout",
     "output_type": "stream",
     "text": [
      "Best hyperparameters: {'hidden_dim': 88, 'lr': 0.00037214145838531797, 'dropout': 0.23614182198616152}\n"
     ]
    }
   ],
   "source": [
    "import optuna\n",
    "device = torch.device(\"cuda\" if torch.cuda.is_available() else \"cpu\")\n",
    "# === Optuna objective function ===\n",
    "def objective(trial):\n",
    "    hidden_dim = trial.suggest_int(\"hidden_dim\", 64, 512)\n",
    "    lr = trial.suggest_float(\"lr\", 1e-5, 1e-1, log=True)\n",
    "    dropout = trial.suggest_float(\"dropout\", 0.1, 0.5)\n",
    "\n",
    "    model = SentimentClassifier(embedding_matrix, hidden_dim, dropout).to(device)\n",
    "    optimizer = optim.Adam(model.parameters(), lr=lr)\n",
    "    criterion = nn.CrossEntropyLoss()\n",
    "\n",
    "    for epoch in range(5):\n",
    "        model.train()\n",
    "        for batch_x, batch_y in train_loader:\n",
    "            batch_x, batch_y = batch_x.to(device), batch_y.to(device)\n",
    "            optimizer.zero_grad()\n",
    "            logits = model(batch_x)\n",
    "            loss = criterion(logits, batch_y)\n",
    "            loss.backward()\n",
    "            optimizer.step()\n",
    "\n",
    "    metrics = evaluate(model, val_loader)\n",
    "    return metrics[\"f1\"]\n",
    "\n",
    "# === Run Optuna ===\n",
    "study = optuna.create_study(direction=\"maximize\")\n",
    "study.optimize(objective, n_trials=2)\n",
    "\n",
    "print(\"Best hyperparameters:\", study.best_trial.params)"
   ]
  },
  {
   "cell_type": "code",
   "execution_count": 9,
   "id": "05c2c022",
   "metadata": {
    "execution": {
     "iopub.execute_input": "2025-05-05T16:56:41.546546Z",
     "iopub.status.busy": "2025-05-05T16:56:41.545562Z",
     "iopub.status.idle": "2025-05-05T17:00:34.814458Z",
     "shell.execute_reply": "2025-05-05T17:00:34.813632Z"
    },
    "papermill": {
     "duration": 233.278405,
     "end_time": "2025-05-05T17:00:34.819656",
     "exception": false,
     "start_time": "2025-05-05T16:56:41.541251",
     "status": "completed"
    },
    "tags": []
   },
   "outputs": [
    {
     "name": "stdout",
     "output_type": "stream",
     "text": [
      "Epoch 1 | Train Loss: 0.5178 | Val Acc: 0.7875 | F1: 0.7874\n",
      "Epoch 2 | Train Loss: 0.4384 | Val Acc: 0.7925 | F1: 0.7903\n",
      "Epoch 3 | Train Loss: 0.4144 | Val Acc: 0.7926 | F1: 0.7947\n"
     ]
    }
   ],
   "source": [
    "best_params = study.best_trial.params\n",
    "final_model = SentimentClassifier(embedding_matrix,\n",
    "                                   hidden_dim=best_params[\"hidden_dim\"],\n",
    "                                   dropout=best_params[\"dropout\"]).to(device)\n",
    "\n",
    "def train_model(model, train_loader, val_loader, num_epochs=10, lr=1e-3):\n",
    "    model = model.to(device)\n",
    "    criterion = nn.CrossEntropyLoss()\n",
    "    optimizer = optim.Adam(model.parameters(), lr=lr)\n",
    "\n",
    "    best_val_f1 = 0\n",
    "    all_losses = []  # List to store loss values for each epoch\n",
    "    for epoch in range(num_epochs):\n",
    "        model.train()\n",
    "        train_losses = []\n",
    "        for batch_x, batch_y in train_loader:\n",
    "            batch_x, batch_y = batch_x.to(device), batch_y.to(device)\n",
    "            optimizer.zero_grad()\n",
    "            logits = model(batch_x)\n",
    "            loss = criterion(logits, batch_y)\n",
    "            loss.backward()\n",
    "            optimizer.step()\n",
    "            train_losses.append(loss.item())\n",
    "\n",
    "        avg_train_loss = np.mean(train_losses)\n",
    "        all_losses.append(avg_train_loss)  # Save average loss for the epoch\n",
    "\n",
    "        val_metrics = evaluate(model, val_loader)\n",
    "        print(f\"Epoch {epoch+1} | Train Loss: {avg_train_loss:.4f} | Val Acc: {val_metrics['accuracy']:.4f} | F1: {val_metrics['f1']:.4f}\")\n",
    "\n",
    "        if val_metrics[\"f1\"] > best_val_f1:\n",
    "            best_val_f1 = val_metrics[\"f1\"]\n",
    "            torch.save(model.state_dict(), \"best_model.pt\")\n",
    "    \n",
    "    # Save loss to CSV after training\n",
    "    loss_df = pd.DataFrame({'Epoch': range(1, num_epochs + 1), 'Loss': all_losses})\n",
    "    loss_df.to_csv(\"train_loss.csv\", index=False)  # Save the loss values to CSV\n",
    "\n",
    "train_model(final_model, train_loader, val_loader, num_epochs=3, lr=best_params[\"lr\"])"
   ]
  },
  {
   "cell_type": "code",
   "execution_count": 10,
   "id": "b87b720e",
   "metadata": {
    "execution": {
     "iopub.execute_input": "2025-05-05T17:00:34.828574Z",
     "iopub.status.busy": "2025-05-05T17:00:34.828310Z",
     "iopub.status.idle": "2025-05-05T17:00:35.548487Z",
     "shell.execute_reply": "2025-05-05T17:00:35.547733Z"
    },
    "papermill": {
     "duration": 0.726341,
     "end_time": "2025-05-05T17:00:35.550039",
     "exception": false,
     "start_time": "2025-05-05T17:00:34.823698",
     "status": "completed"
    },
    "tags": []
   },
   "outputs": [],
   "source": [
    "# Ετοιμασία test set\n",
    "test_dataset = TweetDataset(test_df['tokens'], [0]*len(test_df), word_to_idx)\n",
    "test_loader = DataLoader(test_dataset, batch_size=64, shuffle=False, collate_fn=collate_fn)\n",
    "\n",
    "# Φόρτωση του καλύτερου μοντέλου\n",
    "final_model.load_state_dict(torch.load(\"best_model.pt\", weights_only=True))\n",
    "final_model.eval()\n",
    "\n",
    "# Πρόβλεψη\n",
    "test_preds = []\n",
    "with torch.no_grad():\n",
    "    for batch_x, _ in test_loader:\n",
    "        batch_x = batch_x.to(device)\n",
    "        logits = final_model(batch_x)\n",
    "        preds = torch.argmax(logits, dim=1).cpu().numpy()\n",
    "        test_preds.extend(preds)\n",
    "\n",
    "# Δημιουργία submission αρχείου\n",
    "submission = pd.DataFrame({\n",
    "    'ID': test_df['ID'],\n",
    "    'Label': test_preds\n",
    "})\n",
    "submission.to_csv(\"submission.csv\", index=False)\n"
   ]
  },
  {
   "cell_type": "code",
   "execution_count": 11,
   "id": "399841a9",
   "metadata": {
    "execution": {
     "iopub.execute_input": "2025-05-05T17:00:35.559114Z",
     "iopub.status.busy": "2025-05-05T17:00:35.558802Z",
     "iopub.status.idle": "2025-05-05T17:00:37.717862Z",
     "shell.execute_reply": "2025-05-05T17:00:37.716771Z"
    },
    "papermill": {
     "duration": 2.165701,
     "end_time": "2025-05-05T17:00:37.719524",
     "exception": false,
     "start_time": "2025-05-05T17:00:35.553823",
     "status": "completed"
    },
    "tags": []
   },
   "outputs": [],
   "source": [
    "from sklearn.metrics import roc_curve, auc\n",
    "import matplotlib.pyplot as plt\n",
    "\n",
    "# Υπολογισμός των πραγματικών και προβλεπόμενων τιμών για το ROC\n",
    "y_true = val_df['Label'].tolist()  # Πραγματικά labels\n",
    "y_pred_prob = []  # Υπολογισμένες πιθανότητες για την κατηγορία \"1\"\n",
    "final_model.eval()\n",
    "\n",
    "with torch.no_grad():\n",
    "    for batch_x, _ in val_loader:\n",
    "        batch_x = batch_x.to(device)\n",
    "        logits = final_model(batch_x)\n",
    "        probs = torch.softmax(logits, dim=1)[:, 1].cpu().numpy()  # Πιθανότητες για την κατηγορία \"1\"\n",
    "        y_pred_prob.extend(probs)\n",
    "\n",
    "# Υπολογισμός ROC καμπύλης και AUC\n",
    "fpr, tpr, thresholds = roc_curve(y_true, y_pred_prob)\n",
    "roc_auc = auc(fpr, tpr)\n",
    "\n",
    "# Σχεδίαση ROC Curve\n",
    "plt.figure(figsize=(8, 5))\n",
    "plt.plot(fpr, tpr, color='blue', lw=2, label=f'ROC curve (AUC = {roc_auc:.2f})')\n",
    "plt.plot([0, 1], [0, 1], color='gray', linestyle='--')  # Διάγωνος γραμμή\n",
    "plt.title('ROC Curve')\n",
    "plt.xlabel('False Positive Rate')\n",
    "plt.ylabel('True Positive Rate')\n",
    "plt.legend(loc='lower right')\n",
    "plt.grid()\n",
    "plt.tight_layout()\n",
    "\n",
    "# Αποθήκευση του ROC Curve σε PDF\n",
    "plt.savefig(\"/kaggle/working/roc_curve.pdf\")\n",
    "plt.close()\n"
   ]
  },
  {
   "cell_type": "code",
   "execution_count": 12,
   "id": "c8add95b",
   "metadata": {
    "execution": {
     "iopub.execute_input": "2025-05-05T17:00:37.729723Z",
     "iopub.status.busy": "2025-05-05T17:00:37.728537Z",
     "iopub.status.idle": "2025-05-05T17:00:37.885511Z",
     "shell.execute_reply": "2025-05-05T17:00:37.884604Z"
    },
    "papermill": {
     "duration": 0.163765,
     "end_time": "2025-05-05T17:00:37.887355",
     "exception": false,
     "start_time": "2025-05-05T17:00:37.723590",
     "status": "completed"
    },
    "tags": []
   },
   "outputs": [],
   "source": [
    "import matplotlib.pyplot as plt\n",
    "\n",
    "# Load the loss values from the CSV file\n",
    "loss_file_name = \"train_loss.csv\"  # Path to the loss CSV file generated during training\n",
    "loss_df = pd.read_csv(loss_file_name)  # Load the loss data\n",
    "\n",
    "# Plot Learning Curve\n",
    "plt.figure(figsize=(10, 6))\n",
    "plt.plot(loss_df['Epoch'], loss_df['Loss'], label='Train Loss', color='b')\n",
    "plt.xlabel('Epochs')\n",
    "plt.ylabel('Loss')\n",
    "plt.title('Learning Curve (Train Loss)')\n",
    "plt.grid(True)\n",
    "\n",
    "# Αποθήκευση του Confusion Matrix σε PDF\n",
    "plt.savefig(\"/kaggle/working/learning_curve.pdf\")\n",
    "plt.close()\n"
   ]
  },
  {
   "cell_type": "code",
   "execution_count": 13,
   "id": "f203660d",
   "metadata": {
    "execution": {
     "iopub.execute_input": "2025-05-05T17:00:37.901748Z",
     "iopub.status.busy": "2025-05-05T17:00:37.901451Z",
     "iopub.status.idle": "2025-05-05T17:00:39.737210Z",
     "shell.execute_reply": "2025-05-05T17:00:39.736215Z"
    },
    "papermill": {
     "duration": 1.844785,
     "end_time": "2025-05-05T17:00:39.738793",
     "exception": false,
     "start_time": "2025-05-05T17:00:37.894008",
     "status": "completed"
    },
    "tags": []
   },
   "outputs": [],
   "source": [
    "from sklearn.metrics import confusion_matrix\n",
    "import seaborn as sns\n",
    "import matplotlib.pyplot as plt\n",
    "\n",
    "# Υπολογισμός του πίνακα σύγχυσης\n",
    "y_true = val_df['Label'].tolist()  # Πραγματικά labels\n",
    "y_pred = []  # Υπολογισμένες προβλέψεις κατηγορίας\n",
    "final_model.eval()\n",
    "\n",
    "with torch.no_grad():\n",
    "    for batch_x, _ in val_loader:\n",
    "        batch_x = batch_x.to(device)\n",
    "        logits = final_model(batch_x)\n",
    "        preds = torch.argmax(logits, dim=1).cpu().numpy()\n",
    "        y_pred.extend(preds)\n",
    "\n",
    "# Υπολογισμός του Confusion Matrix\n",
    "cm = confusion_matrix(y_true, y_pred)\n",
    "\n",
    "# Σχεδίαση του Confusion Matrix ως heatmap\n",
    "plt.figure(figsize=(8, 6))\n",
    "sns.heatmap(cm, annot=True, fmt='d', cmap='Blues', xticklabels=['Negative', 'Positive'], yticklabels=['Negative', 'Positive'])\n",
    "plt.title('Confusion Matrix')\n",
    "plt.xlabel('Predicted Label')\n",
    "plt.ylabel('True Label')\n",
    "plt.tight_layout()\n",
    "# Αποθήκευση του Confusion Matrix σε PDF\n",
    "plt.savefig(\"/kaggle/working/confusion_matrix.pdf\")\n",
    "plt.close()"
   ]
  },
  {
   "cell_type": "code",
   "execution_count": 14,
   "id": "5774be7d",
   "metadata": {
    "execution": {
     "iopub.execute_input": "2025-05-05T17:00:39.747939Z",
     "iopub.status.busy": "2025-05-05T17:00:39.747128Z",
     "iopub.status.idle": "2025-05-05T17:00:40.128133Z",
     "shell.execute_reply": "2025-05-05T17:00:40.127242Z"
    },
    "papermill": {
     "duration": 0.387327,
     "end_time": "2025-05-05T17:00:40.129889",
     "exception": false,
     "start_time": "2025-05-05T17:00:39.742562",
     "status": "completed"
    },
    "tags": []
   },
   "outputs": [
    {
     "name": "stdout",
     "output_type": "stream",
     "text": [
      "Ακρίβεια: 0.7926\n",
      "Ακρίβεια Θετικών: 0.7866\n",
      "Ανάκληση: 0.8031\n",
      "F1 Score: 0.7947\n"
     ]
    },
    {
     "data": {
      "image/png": "[encoded data removed]",
      "text/plain": [
       "<Figure size 600x600 with 2 Axes>"
      ]
     },
     "metadata": {},
     "output_type": "display_data"
    },
    {
     "data": {
      "text/plain": [
       "(0.7925747712048307, 0.7865822667837176, 0.8030567479598094, 0.79473413939592)"
      ]
     },
     "execution_count": 14,
     "metadata": {},
     "output_type": "execute_result"
    }
   ],
   "source": [
    "import seaborn as sns\n",
    "from sklearn.metrics import confusion_matrix, precision_score, recall_score, f1_score, accuracy_score\n",
    "import matplotlib.pyplot as plt\n",
    "\n",
    "# Συνάρτηση αξιολόγησης μοντέλου\n",
    "def evaluate_predictions(y_true, y_pred):\n",
    "    accuracy = accuracy_score(y_true, y_pred)\n",
    "    precision = precision_score(y_true, y_pred)\n",
    "    recall = recall_score(y_true, y_pred)\n",
    "    f1 = f1_score(y_true, y_pred)\n",
    "    \n",
    "    print(f\"Ακρίβεια: {accuracy:.4f}\")\n",
    "    print(f\"Ακρίβεια Θετικών: {precision:.4f}\")\n",
    "    print(f\"Ανάκληση: {recall:.4f}\")\n",
    "    print(f\"F1 Score: {f1:.4f}\")\n",
    "\n",
    "    # Υπολογισμός πίνακα σύγχυσης\n",
    "    cm = confusion_matrix(y_true, y_pred)\n",
    "    \n",
    "    # Σχεδίαση heatmap του πίνακα σύγχυσης\n",
    "    plt.figure(figsize=(6, 6))\n",
    "    sns.heatmap(cm, annot=True, fmt='d', cmap='Blues', xticklabels=['Αρνητική', 'Θετική'], yticklabels=['Αρνητική', 'Θετική'])\n",
    "    plt.xlabel('Προβλεπόμενη')\n",
    "    plt.ylabel('Πραγματική')\n",
    "    plt.title('Πίνακας Σύγχυσης')\n",
    "    plt.show()\n",
    "\n",
    "    return accuracy, precision, recall, f1\n",
    "\n",
    "evaluate_predictions(y_true, y_pred)"
   ]
  }
 ],
 "metadata": {
  "kaggle": {
   "accelerator": "none",
   "dataSources": [
    {
     "databundleVersionId": 11446837,
     "sourceId": 96317,
     "sourceType": "competition"
    }
   ],
   "dockerImageVersionId": 31012,
   "isGpuEnabled": false,
   "isInternetEnabled": true,
   "language": "python",
   "sourceType": "notebook"
  },
  "kernelspec": {
   "display_name": "Python 3",
   "language": "python",
   "name": "python3"
  },
  "language_info": {
   "codemirror_mode": {
    "name": "ipython",
    "version": 3
   },
   "file_extension": ".py",
   "mimetype": "text/x-python",
   "name": "python",
   "nbconvert_exporter": "python",
   "pygments_lexer": "ipython3",
   "version": "3.11.11"
  },
  "papermill": {
   "default_parameters": {},
   "duration": 1065.49957,
   "end_time": "2025-05-05T17:00:42.855541",
   "environment_variables": {},
   "exception": null,
   "input_path": "__notebook__.ipynb",
   "output_path": "__notebook__.ipynb",
   "parameters": {},
   "start_time": "2025-05-05T16:42:57.355971",
   "version": "2.6.0"
  }
 },
 "nbformat": 4,
 "nbformat_minor": 5
}
